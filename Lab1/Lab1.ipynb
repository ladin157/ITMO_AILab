{
 "cells": [
  {
   "cell_type": "markdown",
   "metadata": {},
   "source": [
    "# Задание 1: Введение в предобработку данных"
   ]
  },
  {
   "cell_type": "markdown",
   "metadata": {},
   "source": [
    "# Import libraries"
   ]
  },
  {
   "cell_type": "code",
   "execution_count": 1,
   "metadata": {},
   "outputs": [],
   "source": [
    "import os\n",
    "import pandas as pd\n",
    "import numpy as np\n",
    "import scipy\n",
    "import string"
   ]
  },
  {
   "cell_type": "markdown",
   "metadata": {},
   "source": [
    "## Define paths"
   ]
  },
  {
   "cell_type": "code",
   "execution_count": 2,
   "metadata": {},
   "outputs": [],
   "source": [
    "root_path = '.'\n",
    "data_path = os.path.join(root_path, 'data')"
   ]
  },
  {
   "cell_type": "markdown",
   "metadata": {},
   "source": [
    "## View all files in data folder"
   ]
  },
  {
   "cell_type": "code",
   "execution_count": 3,
   "metadata": {},
   "outputs": [
    {
     "name": "stdout",
     "output_type": "stream",
     "text": [
      "gender_submission.csv\n",
      "test.csv\n",
      "titanic.csv\n",
      "train.csv\n"
     ]
    }
   ],
   "source": [
    "for _, _, files in os.walk(data_path):\n",
    "    for file in files:\n",
    "        print(file)"
   ]
  },
  {
   "cell_type": "markdown",
   "metadata": {},
   "source": [
    "## Define all data files to load data"
   ]
  },
  {
   "cell_type": "code",
   "execution_count": 4,
   "metadata": {},
   "outputs": [],
   "source": [
    "train_file = os.path.join(data_path, 'train.csv')\n",
    "test_file = os.path.join(data_path, 'test.csv')\n",
    "submission_file = os.path.join(data_path, 'gender_submission.csv')\n",
    "titanic_file = os.path.join(data_path, 'titanic.csv')"
   ]
  },
  {
   "cell_type": "code",
   "execution_count": 5,
   "metadata": {},
   "outputs": [
    {
     "name": "stdout",
     "output_type": "stream",
     "text": [
      "True\n"
     ]
    }
   ],
   "source": [
    "print(os.path.exists(titanic_file))"
   ]
  },
  {
   "cell_type": "code",
   "execution_count": 6,
   "metadata": {},
   "outputs": [],
   "source": [
    "data = pd.read_csv(titanic_file, index_col='PassengerId')"
   ]
  },
  {
   "cell_type": "markdown",
   "metadata": {},
   "source": [
    "## Get some common information about dataset"
   ]
  },
  {
   "cell_type": "code",
   "execution_count": 7,
   "metadata": {},
   "outputs": [
    {
     "data": {
      "text/html": [
       "<div>\n",
       "<style scoped>\n",
       "    .dataframe tbody tr th:only-of-type {\n",
       "        vertical-align: middle;\n",
       "    }\n",
       "\n",
       "    .dataframe tbody tr th {\n",
       "        vertical-align: top;\n",
       "    }\n",
       "\n",
       "    .dataframe thead th {\n",
       "        text-align: right;\n",
       "    }\n",
       "</style>\n",
       "<table border=\"1\" class=\"dataframe\">\n",
       "  <thead>\n",
       "    <tr style=\"text-align: right;\">\n",
       "      <th></th>\n",
       "      <th>Survived</th>\n",
       "      <th>Pclass</th>\n",
       "      <th>Age</th>\n",
       "      <th>SibSp</th>\n",
       "      <th>Parch</th>\n",
       "      <th>Fare</th>\n",
       "    </tr>\n",
       "  </thead>\n",
       "  <tbody>\n",
       "    <tr>\n",
       "      <td>count</td>\n",
       "      <td>890.000000</td>\n",
       "      <td>890.000000</td>\n",
       "      <td>713.000000</td>\n",
       "      <td>890.000000</td>\n",
       "      <td>890.000000</td>\n",
       "      <td>890.000000</td>\n",
       "    </tr>\n",
       "    <tr>\n",
       "      <td>mean</td>\n",
       "      <td>0.384270</td>\n",
       "      <td>2.308989</td>\n",
       "      <td>29.711318</td>\n",
       "      <td>0.523596</td>\n",
       "      <td>0.382022</td>\n",
       "      <td>32.157808</td>\n",
       "    </tr>\n",
       "    <tr>\n",
       "      <td>std</td>\n",
       "      <td>0.486696</td>\n",
       "      <td>0.836477</td>\n",
       "      <td>14.533034</td>\n",
       "      <td>1.103224</td>\n",
       "      <td>0.806409</td>\n",
       "      <td>49.702054</td>\n",
       "    </tr>\n",
       "    <tr>\n",
       "      <td>min</td>\n",
       "      <td>0.000000</td>\n",
       "      <td>1.000000</td>\n",
       "      <td>0.420000</td>\n",
       "      <td>0.000000</td>\n",
       "      <td>0.000000</td>\n",
       "      <td>0.000000</td>\n",
       "    </tr>\n",
       "    <tr>\n",
       "      <td>25%</td>\n",
       "      <td>0.000000</td>\n",
       "      <td>2.000000</td>\n",
       "      <td>20.000000</td>\n",
       "      <td>0.000000</td>\n",
       "      <td>0.000000</td>\n",
       "      <td>7.903100</td>\n",
       "    </tr>\n",
       "    <tr>\n",
       "      <td>50%</td>\n",
       "      <td>0.000000</td>\n",
       "      <td>3.000000</td>\n",
       "      <td>28.000000</td>\n",
       "      <td>0.000000</td>\n",
       "      <td>0.000000</td>\n",
       "      <td>14.454200</td>\n",
       "    </tr>\n",
       "    <tr>\n",
       "      <td>75%</td>\n",
       "      <td>1.000000</td>\n",
       "      <td>3.000000</td>\n",
       "      <td>38.000000</td>\n",
       "      <td>1.000000</td>\n",
       "      <td>0.000000</td>\n",
       "      <td>31.000000</td>\n",
       "    </tr>\n",
       "    <tr>\n",
       "      <td>max</td>\n",
       "      <td>1.000000</td>\n",
       "      <td>3.000000</td>\n",
       "      <td>80.000000</td>\n",
       "      <td>8.000000</td>\n",
       "      <td>6.000000</td>\n",
       "      <td>512.329200</td>\n",
       "    </tr>\n",
       "  </tbody>\n",
       "</table>\n",
       "</div>"
      ],
      "text/plain": [
       "         Survived      Pclass         Age       SibSp       Parch        Fare\n",
       "count  890.000000  890.000000  713.000000  890.000000  890.000000  890.000000\n",
       "mean     0.384270    2.308989   29.711318    0.523596    0.382022   32.157808\n",
       "std      0.486696    0.836477   14.533034    1.103224    0.806409   49.702054\n",
       "min      0.000000    1.000000    0.420000    0.000000    0.000000    0.000000\n",
       "25%      0.000000    2.000000   20.000000    0.000000    0.000000    7.903100\n",
       "50%      0.000000    3.000000   28.000000    0.000000    0.000000   14.454200\n",
       "75%      1.000000    3.000000   38.000000    1.000000    0.000000   31.000000\n",
       "max      1.000000    3.000000   80.000000    8.000000    6.000000  512.329200"
      ]
     },
     "execution_count": 7,
     "metadata": {},
     "output_type": "execute_result"
    }
   ],
   "source": [
    "data.describe()"
   ]
  },
  {
   "cell_type": "code",
   "execution_count": 8,
   "metadata": {},
   "outputs": [
    {
     "data": {
      "text/html": [
       "<div>\n",
       "<style scoped>\n",
       "    .dataframe tbody tr th:only-of-type {\n",
       "        vertical-align: middle;\n",
       "    }\n",
       "\n",
       "    .dataframe tbody tr th {\n",
       "        vertical-align: top;\n",
       "    }\n",
       "\n",
       "    .dataframe thead th {\n",
       "        text-align: right;\n",
       "    }\n",
       "</style>\n",
       "<table border=\"1\" class=\"dataframe\">\n",
       "  <thead>\n",
       "    <tr style=\"text-align: right;\">\n",
       "      <th></th>\n",
       "      <th>Survived</th>\n",
       "      <th>Pclass</th>\n",
       "      <th>Name</th>\n",
       "      <th>Sex</th>\n",
       "      <th>Age</th>\n",
       "      <th>SibSp</th>\n",
       "      <th>Parch</th>\n",
       "      <th>Ticket</th>\n",
       "      <th>Fare</th>\n",
       "      <th>Cabin</th>\n",
       "      <th>Embarked</th>\n",
       "    </tr>\n",
       "    <tr>\n",
       "      <th>PassengerId</th>\n",
       "      <th></th>\n",
       "      <th></th>\n",
       "      <th></th>\n",
       "      <th></th>\n",
       "      <th></th>\n",
       "      <th></th>\n",
       "      <th></th>\n",
       "      <th></th>\n",
       "      <th></th>\n",
       "      <th></th>\n",
       "      <th></th>\n",
       "    </tr>\n",
       "  </thead>\n",
       "  <tbody>\n",
       "    <tr>\n",
       "      <td>1</td>\n",
       "      <td>0</td>\n",
       "      <td>3</td>\n",
       "      <td>Braund, Mr. Owen Harris</td>\n",
       "      <td>male</td>\n",
       "      <td>22.0</td>\n",
       "      <td>1</td>\n",
       "      <td>0</td>\n",
       "      <td>A/5 21171</td>\n",
       "      <td>7.2500</td>\n",
       "      <td>NaN</td>\n",
       "      <td>S</td>\n",
       "    </tr>\n",
       "    <tr>\n",
       "      <td>2</td>\n",
       "      <td>1</td>\n",
       "      <td>1</td>\n",
       "      <td>Cumings, Mrs. John Bradley (Florence Briggs Th...</td>\n",
       "      <td>female</td>\n",
       "      <td>38.0</td>\n",
       "      <td>1</td>\n",
       "      <td>0</td>\n",
       "      <td>PC 17599</td>\n",
       "      <td>71.2833</td>\n",
       "      <td>C85</td>\n",
       "      <td>C</td>\n",
       "    </tr>\n",
       "    <tr>\n",
       "      <td>3</td>\n",
       "      <td>1</td>\n",
       "      <td>3</td>\n",
       "      <td>Heikkinen, Miss. Laina</td>\n",
       "      <td>female</td>\n",
       "      <td>26.0</td>\n",
       "      <td>0</td>\n",
       "      <td>0</td>\n",
       "      <td>STON/O2. 3101282</td>\n",
       "      <td>7.9250</td>\n",
       "      <td>NaN</td>\n",
       "      <td>S</td>\n",
       "    </tr>\n",
       "    <tr>\n",
       "      <td>4</td>\n",
       "      <td>1</td>\n",
       "      <td>1</td>\n",
       "      <td>Futrelle, Mrs. Jacques Heath (Lily May Peel)</td>\n",
       "      <td>female</td>\n",
       "      <td>35.0</td>\n",
       "      <td>1</td>\n",
       "      <td>0</td>\n",
       "      <td>113803</td>\n",
       "      <td>53.1000</td>\n",
       "      <td>C123</td>\n",
       "      <td>S</td>\n",
       "    </tr>\n",
       "    <tr>\n",
       "      <td>5</td>\n",
       "      <td>0</td>\n",
       "      <td>3</td>\n",
       "      <td>Allen, Mr. William Henry</td>\n",
       "      <td>male</td>\n",
       "      <td>35.0</td>\n",
       "      <td>0</td>\n",
       "      <td>0</td>\n",
       "      <td>373450</td>\n",
       "      <td>8.0500</td>\n",
       "      <td>NaN</td>\n",
       "      <td>S</td>\n",
       "    </tr>\n",
       "  </tbody>\n",
       "</table>\n",
       "</div>"
      ],
      "text/plain": [
       "             Survived  Pclass  \\\n",
       "PassengerId                     \n",
       "1                   0       3   \n",
       "2                   1       1   \n",
       "3                   1       3   \n",
       "4                   1       1   \n",
       "5                   0       3   \n",
       "\n",
       "                                                          Name     Sex   Age  \\\n",
       "PassengerId                                                                    \n",
       "1                                      Braund, Mr. Owen Harris    male  22.0   \n",
       "2            Cumings, Mrs. John Bradley (Florence Briggs Th...  female  38.0   \n",
       "3                                       Heikkinen, Miss. Laina  female  26.0   \n",
       "4                 Futrelle, Mrs. Jacques Heath (Lily May Peel)  female  35.0   \n",
       "5                                     Allen, Mr. William Henry    male  35.0   \n",
       "\n",
       "             SibSp  Parch            Ticket     Fare Cabin Embarked  \n",
       "PassengerId                                                          \n",
       "1                1      0         A/5 21171   7.2500   NaN        S  \n",
       "2                1      0          PC 17599  71.2833   C85        C  \n",
       "3                0      0  STON/O2. 3101282   7.9250   NaN        S  \n",
       "4                1      0            113803  53.1000  C123        S  \n",
       "5                0      0            373450   8.0500   NaN        S  "
      ]
     },
     "execution_count": 8,
     "metadata": {},
     "output_type": "execute_result"
    }
   ],
   "source": [
    "data.head()"
   ]
  },
  {
   "cell_type": "code",
   "execution_count": 9,
   "metadata": {},
   "outputs": [
    {
     "data": {
      "text/html": [
       "<div>\n",
       "<style scoped>\n",
       "    .dataframe tbody tr th:only-of-type {\n",
       "        vertical-align: middle;\n",
       "    }\n",
       "\n",
       "    .dataframe tbody tr th {\n",
       "        vertical-align: top;\n",
       "    }\n",
       "\n",
       "    .dataframe thead th {\n",
       "        text-align: right;\n",
       "    }\n",
       "</style>\n",
       "<table border=\"1\" class=\"dataframe\">\n",
       "  <thead>\n",
       "    <tr style=\"text-align: right;\">\n",
       "      <th></th>\n",
       "      <th>Survived</th>\n",
       "      <th>Pclass</th>\n",
       "      <th>Name</th>\n",
       "      <th>Sex</th>\n",
       "      <th>Age</th>\n",
       "      <th>SibSp</th>\n",
       "      <th>Parch</th>\n",
       "      <th>Ticket</th>\n",
       "      <th>Fare</th>\n",
       "      <th>Cabin</th>\n",
       "      <th>Embarked</th>\n",
       "    </tr>\n",
       "    <tr>\n",
       "      <th>PassengerId</th>\n",
       "      <th></th>\n",
       "      <th></th>\n",
       "      <th></th>\n",
       "      <th></th>\n",
       "      <th></th>\n",
       "      <th></th>\n",
       "      <th></th>\n",
       "      <th></th>\n",
       "      <th></th>\n",
       "      <th></th>\n",
       "      <th></th>\n",
       "    </tr>\n",
       "  </thead>\n",
       "  <tbody>\n",
       "    <tr>\n",
       "      <td>1</td>\n",
       "      <td>0</td>\n",
       "      <td>3</td>\n",
       "      <td>Braund, Mr. Owen Harris</td>\n",
       "      <td>male</td>\n",
       "      <td>22.0</td>\n",
       "      <td>1</td>\n",
       "      <td>0</td>\n",
       "      <td>A/5 21171</td>\n",
       "      <td>7.2500</td>\n",
       "      <td>NaN</td>\n",
       "      <td>S</td>\n",
       "    </tr>\n",
       "    <tr>\n",
       "      <td>2</td>\n",
       "      <td>1</td>\n",
       "      <td>1</td>\n",
       "      <td>Cumings, Mrs. John Bradley (Florence Briggs Th...</td>\n",
       "      <td>female</td>\n",
       "      <td>38.0</td>\n",
       "      <td>1</td>\n",
       "      <td>0</td>\n",
       "      <td>PC 17599</td>\n",
       "      <td>71.2833</td>\n",
       "      <td>C85</td>\n",
       "      <td>C</td>\n",
       "    </tr>\n",
       "    <tr>\n",
       "      <td>3</td>\n",
       "      <td>1</td>\n",
       "      <td>3</td>\n",
       "      <td>Heikkinen, Miss. Laina</td>\n",
       "      <td>female</td>\n",
       "      <td>26.0</td>\n",
       "      <td>0</td>\n",
       "      <td>0</td>\n",
       "      <td>STON/O2. 3101282</td>\n",
       "      <td>7.9250</td>\n",
       "      <td>NaN</td>\n",
       "      <td>S</td>\n",
       "    </tr>\n",
       "    <tr>\n",
       "      <td>4</td>\n",
       "      <td>1</td>\n",
       "      <td>1</td>\n",
       "      <td>Futrelle, Mrs. Jacques Heath (Lily May Peel)</td>\n",
       "      <td>female</td>\n",
       "      <td>35.0</td>\n",
       "      <td>1</td>\n",
       "      <td>0</td>\n",
       "      <td>113803</td>\n",
       "      <td>53.1000</td>\n",
       "      <td>C123</td>\n",
       "      <td>S</td>\n",
       "    </tr>\n",
       "    <tr>\n",
       "      <td>5</td>\n",
       "      <td>0</td>\n",
       "      <td>3</td>\n",
       "      <td>Allen, Mr. William Henry</td>\n",
       "      <td>male</td>\n",
       "      <td>35.0</td>\n",
       "      <td>0</td>\n",
       "      <td>0</td>\n",
       "      <td>373450</td>\n",
       "      <td>8.0500</td>\n",
       "      <td>NaN</td>\n",
       "      <td>S</td>\n",
       "    </tr>\n",
       "    <tr>\n",
       "      <td>6</td>\n",
       "      <td>0</td>\n",
       "      <td>3</td>\n",
       "      <td>Moran, Mr. James</td>\n",
       "      <td>male</td>\n",
       "      <td>NaN</td>\n",
       "      <td>0</td>\n",
       "      <td>0</td>\n",
       "      <td>330877</td>\n",
       "      <td>8.4583</td>\n",
       "      <td>NaN</td>\n",
       "      <td>Q</td>\n",
       "    </tr>\n",
       "    <tr>\n",
       "      <td>7</td>\n",
       "      <td>0</td>\n",
       "      <td>1</td>\n",
       "      <td>McCarthy, Mr. Timothy J</td>\n",
       "      <td>male</td>\n",
       "      <td>54.0</td>\n",
       "      <td>0</td>\n",
       "      <td>0</td>\n",
       "      <td>17463</td>\n",
       "      <td>51.8625</td>\n",
       "      <td>E46</td>\n",
       "      <td>S</td>\n",
       "    </tr>\n",
       "    <tr>\n",
       "      <td>8</td>\n",
       "      <td>0</td>\n",
       "      <td>3</td>\n",
       "      <td>Palsson, Master. Gosta Leonard</td>\n",
       "      <td>male</td>\n",
       "      <td>2.0</td>\n",
       "      <td>3</td>\n",
       "      <td>1</td>\n",
       "      <td>349909</td>\n",
       "      <td>21.0750</td>\n",
       "      <td>NaN</td>\n",
       "      <td>S</td>\n",
       "    </tr>\n",
       "    <tr>\n",
       "      <td>9</td>\n",
       "      <td>1</td>\n",
       "      <td>3</td>\n",
       "      <td>Johnson, Mrs. Oscar W (Elisabeth Vilhelmina Berg)</td>\n",
       "      <td>female</td>\n",
       "      <td>27.0</td>\n",
       "      <td>0</td>\n",
       "      <td>2</td>\n",
       "      <td>347742</td>\n",
       "      <td>11.1333</td>\n",
       "      <td>NaN</td>\n",
       "      <td>S</td>\n",
       "    </tr>\n",
       "    <tr>\n",
       "      <td>10</td>\n",
       "      <td>1</td>\n",
       "      <td>2</td>\n",
       "      <td>Nasser, Mrs. Nicholas (Adele Achem)</td>\n",
       "      <td>female</td>\n",
       "      <td>14.0</td>\n",
       "      <td>1</td>\n",
       "      <td>0</td>\n",
       "      <td>237736</td>\n",
       "      <td>30.0708</td>\n",
       "      <td>NaN</td>\n",
       "      <td>C</td>\n",
       "    </tr>\n",
       "  </tbody>\n",
       "</table>\n",
       "</div>"
      ],
      "text/plain": [
       "             Survived  Pclass  \\\n",
       "PassengerId                     \n",
       "1                   0       3   \n",
       "2                   1       1   \n",
       "3                   1       3   \n",
       "4                   1       1   \n",
       "5                   0       3   \n",
       "6                   0       3   \n",
       "7                   0       1   \n",
       "8                   0       3   \n",
       "9                   1       3   \n",
       "10                  1       2   \n",
       "\n",
       "                                                          Name     Sex   Age  \\\n",
       "PassengerId                                                                    \n",
       "1                                      Braund, Mr. Owen Harris    male  22.0   \n",
       "2            Cumings, Mrs. John Bradley (Florence Briggs Th...  female  38.0   \n",
       "3                                       Heikkinen, Miss. Laina  female  26.0   \n",
       "4                 Futrelle, Mrs. Jacques Heath (Lily May Peel)  female  35.0   \n",
       "5                                     Allen, Mr. William Henry    male  35.0   \n",
       "6                                             Moran, Mr. James    male   NaN   \n",
       "7                                      McCarthy, Mr. Timothy J    male  54.0   \n",
       "8                               Palsson, Master. Gosta Leonard    male   2.0   \n",
       "9            Johnson, Mrs. Oscar W (Elisabeth Vilhelmina Berg)  female  27.0   \n",
       "10                         Nasser, Mrs. Nicholas (Adele Achem)  female  14.0   \n",
       "\n",
       "             SibSp  Parch            Ticket     Fare Cabin Embarked  \n",
       "PassengerId                                                          \n",
       "1                1      0         A/5 21171   7.2500   NaN        S  \n",
       "2                1      0          PC 17599  71.2833   C85        C  \n",
       "3                0      0  STON/O2. 3101282   7.9250   NaN        S  \n",
       "4                1      0            113803  53.1000  C123        S  \n",
       "5                0      0            373450   8.0500   NaN        S  \n",
       "6                0      0            330877   8.4583   NaN        Q  \n",
       "7                0      0             17463  51.8625   E46        S  \n",
       "8                3      1            349909  21.0750   NaN        S  \n",
       "9                0      2            347742  11.1333   NaN        S  \n",
       "10               1      0            237736  30.0708   NaN        C  "
      ]
     },
     "execution_count": 9,
     "metadata": {},
     "output_type": "execute_result"
    }
   ],
   "source": [
    "data[:10]"
   ]
  },
  {
   "cell_type": "code",
   "execution_count": 10,
   "metadata": {},
   "outputs": [
    {
     "data": {
      "text/plain": [
       "(890, 11)"
      ]
     },
     "execution_count": 10,
     "metadata": {},
     "output_type": "execute_result"
    }
   ],
   "source": [
    "data.shape"
   ]
  },
  {
   "cell_type": "code",
   "execution_count": 11,
   "metadata": {},
   "outputs": [
    {
     "name": "stdout",
     "output_type": "stream",
     "text": [
      "PassengerId\n",
      "1      3\n",
      "2      1\n",
      "3      3\n",
      "4      1\n",
      "5      3\n",
      "      ..\n",
      "887    2\n",
      "888    1\n",
      "889    3\n",
      "890    1\n",
      "891    3\n",
      "Name: Pclass, Length: 890, dtype: int64\n"
     ]
    }
   ],
   "source": [
    "print(data['Pclass'])"
   ]
  },
  {
   "cell_type": "code",
   "execution_count": 12,
   "metadata": {},
   "outputs": [
    {
     "data": {
      "text/plain": [
       "3    491\n",
       "1    216\n",
       "2    183\n",
       "Name: Pclass, dtype: int64"
      ]
     },
     "execution_count": 12,
     "metadata": {},
     "output_type": "execute_result"
    }
   ],
   "source": [
    "data['Pclass'].value_counts()"
   ]
  },
  {
   "cell_type": "markdown",
   "metadata": {},
   "source": [
    "## Инструкция по выполнению"
   ]
  },
  {
   "cell_type": "markdown",
   "metadata": {},
   "source": [
    "### Get column names"
   ]
  },
  {
   "cell_type": "code",
   "execution_count": 13,
   "metadata": {},
   "outputs": [
    {
     "data": {
      "text/plain": [
       "Index(['Survived', 'Pclass', 'Name', 'Sex', 'Age', 'SibSp', 'Parch', 'Ticket',\n",
       "       'Fare', 'Cabin', 'Embarked'],\n",
       "      dtype='object')"
      ]
     },
     "execution_count": 13,
     "metadata": {},
     "output_type": "execute_result"
    }
   ],
   "source": [
    "data.columns"
   ]
  },
  {
   "cell_type": "markdown",
   "metadata": {},
   "source": [
    "### 1. Какое количество мужчин и женщин ехало на корабле? В качестве ответа приведите два числа."
   ]
  },
  {
   "cell_type": "code",
   "execution_count": 14,
   "metadata": {},
   "outputs": [],
   "source": [
    "number_male = data[data['Sex']=='male'].shape[0]\n",
    "number_female = data[data['Sex']=='female'].shape[0]"
   ]
  },
  {
   "cell_type": "code",
   "execution_count": 15,
   "metadata": {},
   "outputs": [
    {
     "data": {
      "text/plain": [
       "(576, 314)"
      ]
     },
     "execution_count": 15,
     "metadata": {},
     "output_type": "execute_result"
    }
   ],
   "source": [
    "number_male, number_female"
   ]
  },
  {
   "cell_type": "markdown",
   "metadata": {},
   "source": [
    "### 2. Какой части пассажиров удалось выжить? Посчитайте долю выживших пассажиров. Ответ приведите в процентах (число в интервале от 0 до 100, знак процента не нужен), округлив до двух знаков после запятой."
   ]
  },
  {
   "cell_type": "code",
   "execution_count": 16,
   "metadata": {},
   "outputs": [
    {
     "name": "stdout",
     "output_type": "stream",
     "text": [
      "548\n"
     ]
    }
   ],
   "source": [
    "live = data[data['Survived']==0].shape[0]\n",
    "print(live)"
   ]
  },
  {
   "cell_type": "code",
   "execution_count": 17,
   "metadata": {},
   "outputs": [
    {
     "name": "stdout",
     "output_type": "stream",
     "text": [
      "61.573033707865164\n"
     ]
    }
   ],
   "source": [
    "print(live/float(data.shape[0])*100)"
   ]
  },
  {
   "cell_type": "markdown",
   "metadata": {},
   "source": [
    "### 3. Какую долю пассажиры первого класса составляли среди всех пассажиров? Ответ приведите в процентах (число в интервале от 0 до 100, знак процента не нужен), округлив до двух знаков после запятой."
   ]
  },
  {
   "cell_type": "code",
   "execution_count": 18,
   "metadata": {},
   "outputs": [
    {
     "name": "stdout",
     "output_type": "stream",
     "text": [
      "{1, 2, 3}\n"
     ]
    }
   ],
   "source": [
    "print(set(data['Pclass']))"
   ]
  },
  {
   "cell_type": "code",
   "execution_count": 19,
   "metadata": {},
   "outputs": [
    {
     "name": "stdout",
     "output_type": "stream",
     "text": [
      "216\n"
     ]
    }
   ],
   "source": [
    "first = data[data['Pclass']==1].shape[0]\n",
    "print(first)"
   ]
  },
  {
   "cell_type": "code",
   "execution_count": 20,
   "metadata": {},
   "outputs": [
    {
     "name": "stdout",
     "output_type": "stream",
     "text": [
      "24.269662921348313\n"
     ]
    }
   ],
   "source": [
    "print(first/float(data.shape[0])*100)"
   ]
  },
  {
   "cell_type": "markdown",
   "metadata": {},
   "source": [
    "### 4. Какого возраста были пассажиры? Посчитайте среднее и медиану возраста пассажиров. В качестве ответа приведите два числа."
   ]
  },
  {
   "cell_type": "code",
   "execution_count": 21,
   "metadata": {},
   "outputs": [],
   "source": [
    "# Get all ages in the dataset\n",
    "ages = list(data['Age'])"
   ]
  },
  {
   "cell_type": "code",
   "execution_count": 22,
   "metadata": {},
   "outputs": [],
   "source": [
    "# Exclude all NaN value from ages\n",
    "real_ages = list()\n",
    "for age in ages:\n",
    "    if not str(age).upper()=='NAN':\n",
    "        real_ages.append(age)"
   ]
  },
  {
   "cell_type": "code",
   "execution_count": 23,
   "metadata": {},
   "outputs": [
    {
     "data": {
      "text/plain": [
       "713"
      ]
     },
     "execution_count": 23,
     "metadata": {},
     "output_type": "execute_result"
    }
   ],
   "source": [
    "len(real_ages)"
   ]
  },
  {
   "cell_type": "code",
   "execution_count": 24,
   "metadata": {},
   "outputs": [
    {
     "name": "stdout",
     "output_type": "stream",
     "text": [
      "[0.42, 0.67, 0.75, 0.75, 0.83, 0.83, 0.92, 1.0, 1.0, 1.0, 1.0, 1.0, 1.0, 1.0, 2.0, 2.0, 2.0, 2.0, 2.0, 2.0, 2.0, 2.0, 2.0, 2.0, 3.0, 3.0, 3.0, 3.0, 3.0, 3.0, 4.0, 4.0, 4.0, 4.0, 4.0, 4.0, 4.0, 4.0, 4.0, 4.0, 5.0, 5.0, 5.0, 5.0, 6.0, 6.0, 6.0, 7.0, 7.0, 7.0, 8.0, 8.0, 8.0, 8.0, 9.0, 9.0, 9.0, 9.0, 9.0, 9.0, 9.0, 9.0, 10.0, 10.0, 11.0, 11.0, 11.0, 11.0, 12.0, 13.0, 13.0, 14.0, 14.0, 14.0, 14.0, 14.0, 14.0, 14.5, 15.0, 15.0, 15.0, 15.0, 15.0, 16.0, 16.0, 16.0, 16.0, 16.0, 16.0, 16.0, 16.0, 16.0, 16.0, 16.0, 16.0, 16.0, 16.0, 16.0, 16.0, 16.0, 17.0, 17.0, 17.0, 17.0, 17.0, 17.0, 17.0, 17.0, 17.0, 17.0, 17.0, 17.0, 17.0, 18.0, 18.0, 18.0, 18.0, 18.0, 18.0, 18.0, 18.0, 18.0, 18.0, 18.0, 18.0, 18.0, 18.0, 18.0, 18.0, 18.0, 18.0, 18.0, 18.0, 18.0, 18.0, 18.0, 18.0, 18.0, 18.0, 19.0, 19.0, 19.0, 19.0, 19.0, 19.0, 19.0, 19.0, 19.0, 19.0, 19.0, 19.0, 19.0, 19.0, 19.0, 19.0, 19.0, 19.0, 19.0, 19.0, 19.0, 19.0, 19.0, 19.0, 19.0, 20.0, 20.0, 20.0, 20.0, 20.0, 20.0, 20.0, 20.0, 20.0, 20.0, 20.0, 20.0, 20.0, 20.0, 20.0, 20.5, 21.0, 21.0, 21.0, 21.0, 21.0, 21.0, 21.0, 21.0, 21.0, 21.0, 21.0, 21.0, 21.0, 21.0, 21.0, 21.0, 21.0, 21.0, 21.0, 21.0, 21.0, 21.0, 21.0, 22.0, 22.0, 22.0, 22.0, 22.0, 22.0, 22.0, 22.0, 22.0, 22.0, 22.0, 22.0, 22.0, 22.0, 22.0, 22.0, 22.0, 22.0, 22.0, 22.0, 22.0, 22.0, 22.0, 22.0, 22.0, 22.0, 22.0, 23.0, 23.0, 23.0, 23.0, 23.0, 23.0, 23.0, 23.0, 23.0, 23.0, 23.0, 23.0, 23.0, 23.0, 23.0, 23.5, 24.0, 24.0, 24.0, 24.0, 24.0, 24.0, 24.0, 24.0, 24.0, 24.0, 24.0, 24.0, 24.0, 24.0, 24.0, 24.0, 24.0, 24.0, 24.0, 24.0, 24.0, 24.0, 24.0, 24.0, 24.0, 24.0, 24.0, 24.0, 24.0, 24.0, 24.5, 25.0, 25.0, 25.0, 25.0, 25.0, 25.0, 25.0, 25.0, 25.0, 25.0, 25.0, 25.0, 25.0, 25.0, 25.0, 25.0, 25.0, 25.0, 25.0, 25.0, 25.0, 25.0, 25.0, 26.0, 26.0, 26.0, 26.0, 26.0, 26.0, 26.0, 26.0, 26.0, 26.0, 26.0, 26.0, 26.0, 26.0, 26.0, 26.0, 26.0, 26.0, 27.0, 27.0, 27.0, 27.0, 27.0, 27.0, 27.0, 27.0, 27.0, 27.0, 27.0, 27.0, 27.0, 27.0, 27.0, 27.0, 27.0, 27.0, 28.0, 28.0, 28.0, 28.0, 28.0, 28.0, 28.0, 28.0, 28.0, 28.0, 28.0, 28.0, 28.0, 28.0, 28.0, 28.0, 28.0, 28.0, 28.0, 28.0, 28.0, 28.0, 28.0, 28.0, 28.0, 28.5, 28.5, 29.0, 29.0, 29.0, 29.0, 29.0, 29.0, 29.0, 29.0, 29.0, 29.0, 29.0, 29.0, 29.0, 29.0, 29.0, 29.0, 29.0, 29.0, 29.0, 29.0, 30.0, 30.0, 30.0, 30.0, 30.0, 30.0, 30.0, 30.0, 30.0, 30.0, 30.0, 30.0, 30.0, 30.0, 30.0, 30.0, 30.0, 30.0, 30.0, 30.0, 30.0, 30.0, 30.0, 30.0, 30.0, 30.5, 30.5, 31.0, 31.0, 31.0, 31.0, 31.0, 31.0, 31.0, 31.0, 31.0, 31.0, 31.0, 31.0, 31.0, 31.0, 31.0, 31.0, 31.0, 32.0, 32.0, 32.0, 32.0, 32.0, 32.0, 32.0, 32.0, 32.0, 32.0, 32.0, 32.0, 32.0, 32.0, 32.0, 32.0, 32.0, 32.0, 32.5, 32.5, 33.0, 33.0, 33.0, 33.0, 33.0, 33.0, 33.0, 33.0, 33.0, 33.0, 33.0, 33.0, 33.0, 33.0, 33.0, 34.0, 34.0, 34.0, 34.0, 34.0, 34.0, 34.0, 34.0, 34.0, 34.0, 34.0, 34.0, 34.0, 34.0, 34.0, 34.5, 35.0, 35.0, 35.0, 35.0, 35.0, 35.0, 35.0, 35.0, 35.0, 35.0, 35.0, 35.0, 35.0, 35.0, 35.0, 35.0, 35.0, 35.0, 36.0, 36.0, 36.0, 36.0, 36.0, 36.0, 36.0, 36.0, 36.0, 36.0, 36.0, 36.0, 36.0, 36.0, 36.0, 36.0, 36.0, 36.0, 36.0, 36.0, 36.0, 36.0, 36.5, 37.0, 37.0, 37.0, 37.0, 37.0, 37.0, 38.0, 38.0, 38.0, 38.0, 38.0, 38.0, 38.0, 38.0, 38.0, 38.0, 38.0, 39.0, 39.0, 39.0, 39.0, 39.0, 39.0, 39.0, 39.0, 39.0, 39.0, 39.0, 39.0, 39.0, 39.0, 40.0, 40.0, 40.0, 40.0, 40.0, 40.0, 40.0, 40.0, 40.0, 40.0, 40.0, 40.0, 40.0, 40.5, 40.5, 41.0, 41.0, 41.0, 41.0, 41.0, 41.0, 42.0, 42.0, 42.0, 42.0, 42.0, 42.0, 42.0, 42.0, 42.0, 42.0, 42.0, 42.0, 42.0, 43.0, 43.0, 43.0, 43.0, 43.0, 44.0, 44.0, 44.0, 44.0, 44.0, 44.0, 44.0, 44.0, 44.0, 45.0, 45.0, 45.0, 45.0, 45.0, 45.0, 45.0, 45.0, 45.0, 45.0, 45.0, 45.0, 45.5, 45.5, 46.0, 46.0, 46.0, 47.0, 47.0, 47.0, 47.0, 47.0, 47.0, 47.0, 47.0, 47.0, 48.0, 48.0, 48.0, 48.0, 48.0, 48.0, 48.0, 48.0, 48.0, 49.0, 49.0, 49.0, 49.0, 49.0, 49.0, 50.0, 50.0, 50.0, 50.0, 50.0, 50.0, 50.0, 50.0, 50.0, 50.0, 51.0, 51.0, 51.0, 51.0, 51.0, 51.0, 51.0, 52.0, 52.0, 52.0, 52.0, 52.0, 52.0, 53.0, 54.0, 54.0, 54.0, 54.0, 54.0, 54.0, 54.0, 54.0, 55.0, 55.0, 55.5, 56.0, 56.0, 56.0, 56.0, 57.0, 57.0, 58.0, 58.0, 58.0, 58.0, 58.0, 59.0, 59.0, 60.0, 60.0, 60.0, 60.0, 61.0, 61.0, 61.0, 62.0, 62.0, 62.0, 62.0, 63.0, 63.0, 64.0, 64.0, 65.0, 65.0, 65.0, 66.0, 70.0, 70.0, 70.5, 71.0, 71.0, 74.0, 80.0]\n"
     ]
    }
   ],
   "source": [
    "print(sorted(real_ages))"
   ]
  },
  {
   "cell_type": "code",
   "execution_count": 25,
   "metadata": {},
   "outputs": [],
   "source": [
    "# Calculate mean and median\n",
    "mean_age = np.mean(real_ages)\n",
    "median_age = np.median(real_ages)"
   ]
  },
  {
   "cell_type": "code",
   "execution_count": 26,
   "metadata": {},
   "outputs": [
    {
     "name": "stdout",
     "output_type": "stream",
     "text": [
      "mean=29.711318373071528, median=28.0\n"
     ]
    }
   ],
   "source": [
    "print('mean={}, median={}'.format(mean_age, median_age))"
   ]
  },
  {
   "cell_type": "markdown",
   "metadata": {},
   "source": [
    "### 5. Коррелируют ли число братьев/сестер/супругов с числом родителей/детей? Посчитайте корреляцию Пирсона между признаками SibSp и Parch, округлив до двух знаков после запятой."
   ]
  },
  {
   "cell_type": "code",
   "execution_count": 27,
   "metadata": {},
   "outputs": [],
   "source": [
    "# Get all names in the dataset\n",
    "names = data['Name']"
   ]
  },
  {
   "cell_type": "code",
   "execution_count": 28,
   "metadata": {},
   "outputs": [
    {
     "name": "stdout",
     "output_type": "stream",
     "text": [
      "890\n"
     ]
    }
   ],
   "source": [
    "# Get different names in the dataset\n",
    "print(len(set(names)))"
   ]
  },
  {
   "cell_type": "code",
   "execution_count": 29,
   "metadata": {},
   "outputs": [
    {
     "name": "stdout",
     "output_type": "stream",
     "text": [
      "890\n"
     ]
    }
   ],
   "source": [
    "print(len(names))"
   ]
  },
  {
   "cell_type": "code",
   "execution_count": 30,
   "metadata": {},
   "outputs": [],
   "source": [
    "SibSp = data['SibSp']\n",
    "Parch = data['Parch']"
   ]
  },
  {
   "cell_type": "code",
   "execution_count": 31,
   "metadata": {},
   "outputs": [
    {
     "name": "stdout",
     "output_type": "stream",
     "text": [
      "7 7\n"
     ]
    }
   ],
   "source": [
    "print(len(set(SibSp)), len(set(Parch)))"
   ]
  },
  {
   "cell_type": "markdown",
   "metadata": {},
   "source": [
    "**Коррелируют ли число братьев/сестер/супругов с числом родителей/детей? --> да, но не сильно (нормально коррелируют)**"
   ]
  },
  {
   "cell_type": "code",
   "execution_count": 32,
   "metadata": {},
   "outputs": [],
   "source": [
    "from scipy import stats, optimize, interpolate\n",
    "pearson_correlation = scipy.stats.pearsonr(SibSp, Parch)"
   ]
  },
  {
   "cell_type": "markdown",
   "metadata": {},
   "source": [
    " \tCoefficient, r\n",
    "    Strength of Association\t Positive    \tNegative\n",
    "\n",
    "     Small\t           .1 to .3\t-0.1 to -0.3\n",
    "\n",
    "    Medium\t           .3 to .5\t-0.3 to -0.5\n",
    "\n",
    "    Large\t          .5 to 1.0\t-0.5 to -1.0"
   ]
  },
  {
   "cell_type": "code",
   "execution_count": 65,
   "metadata": {},
   "outputs": [
    {
     "name": "stdout",
     "output_type": "stream",
     "text": [
      "0.41\n"
     ]
    }
   ],
   "source": [
    "corr = float(pearson_correlation[0])\n",
    "print(round(corr,2))\n",
    "# print(corr)"
   ]
  },
  {
   "cell_type": "markdown",
   "metadata": {},
   "source": [
    "### 6. Какое самое популярное женское имя на корабле? Извлеките из полного имени пассажира (колонка Name) его личное имя (First Name). Это задание — типичный пример того, с чем сталкивается специалист по анализу данных. Данные очень разнородные и шумные, но из них требуется извлечь необходимую информацию. Попробуйте вручную разобрать несколько значений столбца Name и выработать правило для извлечения имен, а также разделения их на женские и мужские."
   ]
  },
  {
   "cell_type": "code",
   "execution_count": 34,
   "metadata": {},
   "outputs": [],
   "source": [
    "# Get all data for female\n",
    "female_data = data[data['Sex']=='female']"
   ]
  },
  {
   "cell_type": "code",
   "execution_count": 35,
   "metadata": {},
   "outputs": [],
   "source": [
    "# Get all names of women\n",
    "female_names = female_data['Name']"
   ]
  },
  {
   "cell_type": "code",
   "execution_count": 36,
   "metadata": {},
   "outputs": [
    {
     "data": {
      "text/plain": [
       "PassengerId\n",
       "2      Cumings, Mrs. John Bradley (Florence Briggs Th...\n",
       "3                                 Heikkinen, Miss. Laina\n",
       "4           Futrelle, Mrs. Jacques Heath (Lily May Peel)\n",
       "9      Johnson, Mrs. Oscar W (Elisabeth Vilhelmina Berg)\n",
       "10                   Nasser, Mrs. Nicholas (Adele Achem)\n",
       "                             ...                        \n",
       "881         Shelley, Mrs. William (Imanita Parrish Hall)\n",
       "883                         Dahlberg, Miss. Gerda Ulrika\n",
       "886                 Rice, Mrs. William (Margaret Norton)\n",
       "888                         Graham, Miss. Margaret Edith\n",
       "889             Johnston, Miss. Catherine Helen \"Carrie\"\n",
       "Name: Name, Length: 314, dtype: object"
      ]
     },
     "execution_count": 36,
     "metadata": {},
     "output_type": "execute_result"
    }
   ],
   "source": [
    "female_names"
   ]
  },
  {
   "cell_type": "code",
   "execution_count": 37,
   "metadata": {},
   "outputs": [
    {
     "data": {
      "text/plain": [
       "314"
      ]
     },
     "execution_count": 37,
     "metadata": {},
     "output_type": "execute_result"
    }
   ],
   "source": [
    "len(set(female_names))"
   ]
  },
  {
   "cell_type": "code",
   "execution_count": 38,
   "metadata": {},
   "outputs": [
    {
     "data": {
      "text/plain": [
       "PassengerId\n",
       "2      Cumings, Mrs. John Bradley (Florence Briggs Th...\n",
       "3                                 Heikkinen, Miss. Laina\n",
       "4           Futrelle, Mrs. Jacques Heath (Lily May Peel)\n",
       "9      Johnson, Mrs. Oscar W (Elisabeth Vilhelmina Berg)\n",
       "10                   Nasser, Mrs. Nicholas (Adele Achem)\n",
       "                             ...                        \n",
       "881         Shelley, Mrs. William (Imanita Parrish Hall)\n",
       "883                         Dahlberg, Miss. Gerda Ulrika\n",
       "886                 Rice, Mrs. William (Margaret Norton)\n",
       "888                         Graham, Miss. Margaret Edith\n",
       "889             Johnston, Miss. Catherine Helen \"Carrie\"\n",
       "Name: Name, Length: 314, dtype: object"
      ]
     },
     "execution_count": 38,
     "metadata": {},
     "output_type": "execute_result"
    }
   ],
   "source": [
    "female_names"
   ]
  },
  {
   "cell_type": "code",
   "execution_count": 39,
   "metadata": {},
   "outputs": [
    {
     "name": "stdout",
     "output_type": "stream",
     "text": [
      "20\n"
     ]
    }
   ],
   "source": [
    "count = 0\n",
    "for name in female_names:\n",
    "    if 'ANNA' in name.upper():\n",
    "        count+=1\n",
    "print(count)"
   ]
  },
  {
   "cell_type": "code",
   "execution_count": 40,
   "metadata": {},
   "outputs": [],
   "source": [
    "# Get families, titles and names\n",
    "def get_names(data):\n",
    "    families=[]\n",
    "    titles = []\n",
    "    new_name = []\n",
    "    #for each row in dataset:\n",
    "    for i in range(len(data)):\n",
    "        name = data.iloc[i]\n",
    "        # extract name inside brakets into name_bracket:\n",
    "        if '(' in name:\n",
    "            name_no_bracket = name.split('(')[0] \n",
    "        else:\n",
    "            name_no_bracket = name\n",
    "            \n",
    "        family = name_no_bracket.split(\",\")[0]\n",
    "        title = name_no_bracket.split(\",\")[1].strip().split(\" \")[0]\n",
    "        \n",
    "        #remove punctuations accept brackets:\n",
    "        for c in string.punctuation:\n",
    "            name = name.replace(c,\"\").strip()\n",
    "            family = family.replace(c,\"\").strip()\n",
    "            title = title.replace(c,\"\").strip()\n",
    "            \n",
    "        families.append(family)\n",
    "        titles.append(title)\n",
    "        new_name.append(name)\n",
    "            \n",
    "    return families, titles, new_name "
   ]
  },
  {
   "cell_type": "code",
   "execution_count": 41,
   "metadata": {},
   "outputs": [],
   "source": [
    "families, titles, new_names = get_names(data=female_names)"
   ]
  },
  {
   "cell_type": "code",
   "execution_count": 42,
   "metadata": {},
   "outputs": [
    {
     "data": {
      "text/plain": [
       "{'Dr', 'Lady', 'Miss', 'Mlle', 'Mme', 'Mrs', 'Ms', 'the'}"
      ]
     },
     "execution_count": 42,
     "metadata": {},
     "output_type": "execute_result"
    }
   ],
   "source": [
    "# families, titles, new_names\n",
    "# new_names\n",
    "set(titles)\n",
    "# families"
   ]
  },
  {
   "cell_type": "code",
   "execution_count": 43,
   "metadata": {},
   "outputs": [],
   "source": [
    "name_dict = dict()\n",
    "families = set(families)\n",
    "titles = set(titles)\n",
    "for name in new_names:\n",
    "    strs = name.split(' ')\n",
    "    for st in strs:\n",
    "        if st in families:\n",
    "            continue\n",
    "        if st in titles:\n",
    "            continue\n",
    "        if st in name_dict:\n",
    "            name_dict[st] += 1\n",
    "        else:\n",
    "            name_dict[st] = 1"
   ]
  },
  {
   "cell_type": "code",
   "execution_count": 44,
   "metadata": {},
   "outputs": [
    {
     "data": {
      "text/plain": [
       "[('Mary', 20),\n",
       " ('Anna', 17),\n",
       " ('Elizabeth', 15),\n",
       " ('William', 15),\n",
       " ('Margaret', 12),\n",
       " ('Maria', 11),\n",
       " ('John', 8),\n",
       " ('Annie', 8),\n",
       " ('Alice', 8),\n",
       " ('Helen', 7),\n",
       " ('Kate', 7),\n",
       " ('Catherine', 7),\n",
       " ('Marie', 6),\n",
       " ('Joseph', 6),\n",
       " ('Sofia', 6),\n",
       " ('Thomas', 6),\n",
       " ('Edith', 6),\n",
       " ('Florence', 5),\n",
       " ('Augusta', 5),\n",
       " ('Ellen', 5),\n",
       " ('Anne', 5),\n",
       " ('Bertha', 5),\n",
       " ('Ada', 5),\n",
       " ('Louise', 5),\n",
       " ('Frederick', 5),\n",
       " ('Jane', 5),\n",
       " ('Elisabeth', 4),\n",
       " ('Emily', 4),\n",
       " ('Matilda', 4),\n",
       " ('Alexander', 4),\n",
       " ('Katherine', 4),\n",
       " ('James', 4),\n",
       " ('Martha', 4),\n",
       " ('de', 4),\n",
       " ('E', 4),\n",
       " ('Marion', 4),\n",
       " ('Elsie', 4),\n",
       " ('Charles', 4),\n",
       " ('Edward', 4),\n",
       " ('Samuel', 4),\n",
       " ('Ann', 3),\n",
       " ('Delia', 3),\n",
       " ('Lillian', 3),\n",
       " ('Amy', 3),\n",
       " ('Mabel', 3),\n",
       " ('A', 3),\n",
       " ('Katie', 3),\n",
       " ('Madeleine', 3),\n",
       " ('Amelia', 3),\n",
       " ('Hanora', 3),\n",
       " ('Nora', 3),\n",
       " ('Walton', 3),\n",
       " ('y', 3),\n",
       " ('Albert', 3),\n",
       " ('Agnes', 3),\n",
       " ('Jessie', 3),\n",
       " ('L', 3),\n",
       " ('Ida', 3),\n",
       " ('Ethel', 3),\n",
       " ('Lily', 2),\n",
       " ('May', 2),\n",
       " ('Oscar', 2),\n",
       " ('W', 2),\n",
       " ('Adele', 2),\n",
       " ('Vander', 2),\n",
       " ('Planke', 2),\n",
       " ('Emilia', 2),\n",
       " ('Nellie', 2),\n",
       " ('Eugenie', 2),\n",
       " ('Johan', 2),\n",
       " ('Johanna', 2),\n",
       " ('Dorothy', 2),\n",
       " ('Bridget', 2),\n",
       " ('Constance', 2),\n",
       " ('Alexandra', 2),\n",
       " ('Susan', 2),\n",
       " ('Mathilde', 2),\n",
       " ('Monypeny', 2),\n",
       " ('Maggie', 2),\n",
       " ('Bessie', 2),\n",
       " ('Gladys', 2),\n",
       " ('Gretchen', 2),\n",
       " ('Hannah', 2),\n",
       " ('Rosa', 2),\n",
       " ('Marjorie', 2),\n",
       " ('Gertrude', 2),\n",
       " ('Charlotta', 2),\n",
       " ('H', 2),\n",
       " ('Helene', 2),\n",
       " ('Miriam', 2),\n",
       " ('Hall', 2),\n",
       " ('Frank', 2),\n",
       " ('Jean', 2),\n",
       " ('Clara', 2),\n",
       " ('Sophia', 2),\n",
       " ('Rosalie', 2),\n",
       " ('Marija', 2),\n",
       " ('Daisy', 2),\n",
       " ('Van', 2),\n",
       " ('Impe', 2),\n",
       " ('Sigrid', 2),\n",
       " ('Brogren', 2),\n",
       " ('Lucile', 2),\n",
       " ('Polk', 2),\n",
       " ('Sidney', 2),\n",
       " ('R', 2),\n",
       " ('Arthur', 2),\n",
       " ('Hedwig', 2),\n",
       " ('C', 2),\n",
       " ('Hughes', 2),\n",
       " ('Lucy', 2),\n",
       " ('Emma', 2),\n",
       " ('Charlotte', 2),\n",
       " ('Alfrida', 2),\n",
       " ('Solomon', 2),\n",
       " ('Ernest', 2),\n",
       " ('George', 2),\n",
       " ('Bradley', 1),\n",
       " ('Briggs', 1),\n",
       " ('Laina', 1),\n",
       " ('Jacques', 1),\n",
       " ('Heath', 1),\n",
       " ('Peel', 1),\n",
       " ('Vilhelmina', 1),\n",
       " ('Berg', 1),\n",
       " ('Nicholas', 1),\n",
       " ('Achem', 1),\n",
       " ('Marguerite', 1),\n",
       " ('Rut', 1),\n",
       " ('Hulda', 1),\n",
       " ('Amanda', 1),\n",
       " ('Adolfina', 1),\n",
       " ('D', 1),\n",
       " ('Kingcome', 1),\n",
       " ('Julius', 1),\n",
       " ('Emelia', 1),\n",
       " ('Vandemoortele', 1),\n",
       " ('Fatima', 1),\n",
       " ('Torborg', 1),\n",
       " ('Danira', 1),\n",
       " ('Carl', 1),\n",
       " ('Selma', 1),\n",
       " ('Johansson', 1),\n",
       " ('Augustus', 1),\n",
       " ('Agatha', 1),\n",
       " ('Jamila', 1),\n",
       " ('Persdotter', 1),\n",
       " ('Larsson', 1),\n",
       " ('Wonnacott', 1),\n",
       " ('Simonne', 1),\n",
       " ('Andree', 1),\n",
       " ('Josef', 1),\n",
       " ('Josefine', 1),\n",
       " ('Franchi', 1),\n",
       " ('Sleeper', 1),\n",
       " ('Myna', 1),\n",
       " ('Haxtun', 1),\n",
       " ('Lizzie', 1),\n",
       " ('Wilkinson', 1),\n",
       " ('Mirium', 1),\n",
       " ('Amelie', 1),\n",
       " ('Ramell', 1),\n",
       " ('Erna', 1),\n",
       " ('Brigdet', 1),\n",
       " ('Karl', 1),\n",
       " ('Alfred', 1),\n",
       " ('Mathilda', 1),\n",
       " ('Gustafsson', 1),\n",
       " ('T', 1),\n",
       " ('Julia', 1),\n",
       " ('Bone', 1),\n",
       " ('Kristine', 1),\n",
       " ('Hileni', 1),\n",
       " ('Katriina', 1),\n",
       " ('Malake', 1),\n",
       " ('Ellis', 1),\n",
       " ('Grace', 1),\n",
       " ('Charity', 1),\n",
       " ('Laury', 1),\n",
       " ('Leopold', 1),\n",
       " ('Francoise', 1),\n",
       " ('Pede', 1),\n",
       " ('Sultana', 1),\n",
       " ('Pekka', 1),\n",
       " ('Pietari', 1),\n",
       " ('Elin', 1),\n",
       " ('Dolck', 1),\n",
       " ('Robina', 1),\n",
       " ('Ruby', 1),\n",
       " ('Wearne', 1),\n",
       " ('Inglis', 1),\n",
       " ('Milne', 1),\n",
       " ('Bernhardina', 1),\n",
       " ('Karlsson', 1),\n",
       " ('Eleanor', 1),\n",
       " ('Ileen', 1),\n",
       " ('Luise', 1),\n",
       " ('Godfrey', 1),\n",
       " ('Carla', 1),\n",
       " ('Christine', 1),\n",
       " ('Nielsine', 1),\n",
       " ('Tobin', 1),\n",
       " ('Elise', 1),\n",
       " ('Henriette', 1),\n",
       " ('Harbeck', 1),\n",
       " ('Telma', 1),\n",
       " ('Clear', 1),\n",
       " ('Eliina', 1),\n",
       " ('Albina', 1),\n",
       " ('Birkhardt', 1),\n",
       " ('Irene', 1),\n",
       " ('Wallach', 1),\n",
       " ('Gertrud', 1),\n",
       " ('Phoebe', 1),\n",
       " ('Lottie', 1),\n",
       " ('Thamine', 1),\n",
       " ('Agda', 1),\n",
       " ('Thorilda', 1),\n",
       " ('Viktoria', 1),\n",
       " ('Wilhelm', 1),\n",
       " ('Elna', 1),\n",
       " ('Persson', 1),\n",
       " ('Viktor', 1),\n",
       " ('Helena', 1),\n",
       " ('Wilhelmina', 1),\n",
       " ('Darwis', 1),\n",
       " ('Hanne', 1),\n",
       " ('Youssef', 1),\n",
       " ('Razi', 1),\n",
       " ('Maybelle', 1),\n",
       " ('Lutie', 1),\n",
       " ('Thompson', 1),\n",
       " ('Junkins', 1),\n",
       " ('Maidment', 1),\n",
       " ('Kornelia', 1),\n",
       " ('Theodosia', 1),\n",
       " ('Stanton', 1),\n",
       " ('Hunt', 1),\n",
       " ('Dickinson', 1),\n",
       " ('Aloisia', 1),\n",
       " ('Loraine', 1),\n",
       " ('DeLaudeniere', 1),\n",
       " ('Chaput', 1),\n",
       " ('Penasco', 1),\n",
       " ('Castellana', 1),\n",
       " ('Victor', 1),\n",
       " ('Satode', 1),\n",
       " ('Josefa', 1),\n",
       " ('Perez', 1),\n",
       " ('Soto', 1),\n",
       " ('Vallejo', 1),\n",
       " ('Laura', 1),\n",
       " ('Bechstein', 1),\n",
       " ('Borie', 1),\n",
       " ('Sylfven', 1),\n",
       " ('Helmina', 1),\n",
       " ('Josefina', 1),\n",
       " ('Sinai', 1),\n",
       " ('Sternin', 1),\n",
       " ('Natalie', 1),\n",
       " ('Frederic', 1),\n",
       " ('Oakley', 1),\n",
       " ('Margaretta', 1),\n",
       " ('Corning', 1),\n",
       " ('Hilda', 1),\n",
       " ('Francis', 1),\n",
       " ('Sylvia', 1),\n",
       " ('Mae', 1),\n",
       " ('Harbaugh', 1),\n",
       " ('Grice', 1),\n",
       " ('Heinsheimer', 1),\n",
       " ('Mildred', 1),\n",
       " ('Finck', 1),\n",
       " ('Clemmer', 1),\n",
       " ('Ellie', 1),\n",
       " ('David', 1),\n",
       " ('Manley', 1),\n",
       " ('Atkinson', 1),\n",
       " ('Mantoura', 1),\n",
       " ('Leontine', 1),\n",
       " ('Pauline', 1),\n",
       " ('Stina', 1),\n",
       " ('Viola', 1),\n",
       " ('Edgar', 1),\n",
       " ('Leila', 1),\n",
       " ('Saks', 1),\n",
       " ('Aurora', 1),\n",
       " ('Adelia', 1),\n",
       " ('Oskar', 1),\n",
       " ('Aline', 1),\n",
       " ('Towner', 1),\n",
       " ('Hjalmar', 1),\n",
       " ('Bengtsson', 1),\n",
       " ('Elina', 1),\n",
       " ('Mari', 1),\n",
       " ('Aina', 1),\n",
       " ('Rowley', 1),\n",
       " ('Vivian', 1),\n",
       " ('Lulu', 1),\n",
       " ('Christian', 1),\n",
       " ('Lyyli', 1),\n",
       " ('Karoliina', 1),\n",
       " ('Catharina', 1),\n",
       " ('Ernst', 1),\n",
       " ('Gilbert', 1),\n",
       " ('V', 1),\n",
       " ('Winfield', 1),\n",
       " ('Marshall', 1),\n",
       " ('Percival', 1),\n",
       " ('White', 1),\n",
       " ('Adelaide', 1),\n",
       " ('Slow', 1),\n",
       " ('Doolina', 1),\n",
       " ('Benjamin', 1),\n",
       " ('Esther', 1),\n",
       " ('Bloomfield', 1),\n",
       " ('Encarnacion', 1),\n",
       " ('Violet', 1),\n",
       " ('Edwy', 1),\n",
       " ('Worth', 1),\n",
       " ('Amin', 1),\n",
       " ('S', 1),\n",
       " ('Marthe', 1),\n",
       " ('Thuillard', 1),\n",
       " ('Hildur', 1),\n",
       " ('Jeannie', 1),\n",
       " ('Maxfield', 1),\n",
       " ('Forby', 1),\n",
       " ('Mussey', 1),\n",
       " ('Hudson', 1),\n",
       " ('J', 1),\n",
       " ('Waldo', 1),\n",
       " ('Daniels', 1),\n",
       " ('Kristina', 1),\n",
       " ('Roberta', 1),\n",
       " ('Martin', 1),\n",
       " ('Barrett', 1),\n",
       " ('Milley', 1),\n",
       " ('Louis', 1),\n",
       " ('Fischer', 1),\n",
       " ('Phyllis', 1),\n",
       " ('Rizk', 1),\n",
       " ('Eva', 1),\n",
       " ('Margaritha', 1),\n",
       " ('Harriet', 1),\n",
       " ('Ingeborg', 1),\n",
       " ('Constanzia', 1),\n",
       " ('Velin', 1),\n",
       " ('Duff', 1),\n",
       " ('Gordon', 1),\n",
       " ('Lucille', 1),\n",
       " ('Christiana', 1),\n",
       " ('Sutherland', 1),\n",
       " ('Morgan', 1),\n",
       " ('Emil', 1),\n",
       " ('Tillie', 1),\n",
       " ('Mandelbaum', 1),\n",
       " ('Messemaeker', 1),\n",
       " ('Guillaume', 1),\n",
       " ('Ogden', 1),\n",
       " ('Nils', 1),\n",
       " ('Alma', 1),\n",
       " ('Cornelia', 1),\n",
       " ('Berglund', 1),\n",
       " ('Dale', 1),\n",
       " ('Lamson', 1),\n",
       " ('Baird', 1),\n",
       " ('Munger', 1),\n",
       " ('Elias', 1),\n",
       " ('Julie', 1),\n",
       " ('Rachel', 1),\n",
       " ('Borland', 1),\n",
       " ('Marian', 1),\n",
       " ('Longstreth', 1),\n",
       " ('Morris', 1),\n",
       " ('Ruth', 1),\n",
       " ('Walter', 1),\n",
       " ('Bertram', 1),\n",
       " ('Wills', 1),\n",
       " ('Frances', 1),\n",
       " ('Juliette', 1),\n",
       " ('Lafargue', 1),\n",
       " ('Anders', 1),\n",
       " ('Konstantia', 1),\n",
       " ('Cordelia', 1),\n",
       " ('K', 1),\n",
       " ('Stanlick', 1),\n",
       " ('Fiske', 1),\n",
       " ('Juha', 1),\n",
       " ('Ojala', 1),\n",
       " ('Margit', 1),\n",
       " ('Zillah', 1),\n",
       " ('Norah', 1),\n",
       " ('Elmer', 1),\n",
       " ('Zebley', 1),\n",
       " ('Juliet', 1),\n",
       " ('Cummins', 1),\n",
       " ('Wright', 1),\n",
       " ('Tyler', 1),\n",
       " ('Georgette', 1),\n",
       " ('Manca', 1),\n",
       " ('Jacob', 1),\n",
       " ('Talmadge', 1),\n",
       " ('Force', 1),\n",
       " ('Saiide', 1),\n",
       " ('Fannie', 1),\n",
       " ('Berthe', 1),\n",
       " ('Antonine', 1),\n",
       " ('Villiers', 1),\n",
       " ('Caroline', 1),\n",
       " ('Edwina', 1),\n",
       " ('Celia', 1),\n",
       " ('Winnie', 1),\n",
       " ('Nina', 1),\n",
       " ('Jefferys', 1),\n",
       " ('Margareth', 1),\n",
       " ('Pieta', 1),\n",
       " ('Watson', 1),\n",
       " ('Parker', 1),\n",
       " ('Suzette', 1),\n",
       " ('Joan', 1),\n",
       " ('Laver', 1),\n",
       " ('Countess', 1),\n",
       " ('of', 1),\n",
       " ('Noel', 1),\n",
       " ('DyerEdwards', 1),\n",
       " ('Eliza', 1),\n",
       " ('Needs', 1),\n",
       " ('Virginia', 1),\n",
       " ('Scott', 1),\n",
       " ('McMillan', 1),\n",
       " ('Banoura', 1),\n",
       " ('Adrian', 1),\n",
       " ('Vera', 1),\n",
       " ('Gillespie', 1),\n",
       " ('Stella', 1),\n",
       " ('Farnham', 1),\n",
       " ('Mara', 1),\n",
       " ('Baptiste', 1),\n",
       " ('Paula', 1),\n",
       " ('Govaert', 1),\n",
       " ('Harvey', 1),\n",
       " ('Tate', 1),\n",
       " ('Natalia', 1),\n",
       " ('Norman', 1),\n",
       " ('Campbell', 1),\n",
       " ('Griggs', 1),\n",
       " ('Ebba', 1),\n",
       " ('Iris', 1),\n",
       " ('Wendla', 1),\n",
       " ('Melville', 1),\n",
       " ('Jennings', 1),\n",
       " ('Gregg', 1),\n",
       " ('Beila', 1),\n",
       " ('Nelson', 1),\n",
       " ('Evelyn', 1),\n",
       " ('Antoni', 1),\n",
       " ('Selini', 1),\n",
       " ('Sara', 1),\n",
       " ('Rebecca', 1),\n",
       " ('Edwiga', 1),\n",
       " ('Grabowska', 1),\n",
       " ('Nourelain', 1),\n",
       " ('Conover', 1),\n",
       " ('Courtenay', 1),\n",
       " ('Lilian', 1),\n",
       " ('Sam', 1),\n",
       " ('Leah', 1),\n",
       " ('Rosen', 1),\n",
       " ('Dennick', 1),\n",
       " ('Hitchcock', 1),\n",
       " ('Latifa', 1),\n",
       " ('Qurban', 1),\n",
       " ('Joel', 1),\n",
       " ('Welles', 1),\n",
       " ('Barron', 1),\n",
       " ('Dolly', 1),\n",
       " ('Karolina', 1),\n",
       " ('Duran', 1),\n",
       " ('More', 1),\n",
       " ('Asuncion', 1),\n",
       " ('Richard', 1),\n",
       " ('Leonard', 1),\n",
       " ('Sallie', 1),\n",
       " ('Wizosky', 1),\n",
       " ('Kiamie', 1),\n",
       " ('Jr', 1),\n",
       " ('Alexenia', 1),\n",
       " ('Wilson', 1),\n",
       " ('Imanita', 1),\n",
       " ('Gerda', 1),\n",
       " ('Ulrika', 1),\n",
       " ('Norton', 1),\n",
       " ('Carrie', 1)]"
      ]
     },
     "execution_count": 44,
     "metadata": {},
     "output_type": "execute_result"
    }
   ],
   "source": [
    "sorted(name_dict.items(), key=lambda x: x[1], reverse=True)"
   ]
  },
  {
   "cell_type": "code",
   "execution_count": 45,
   "metadata": {},
   "outputs": [],
   "source": [
    "# f_surnames = list()\n",
    "# f_names = list()\n",
    "# ff_names = list()\n",
    "# for fname in female_names:\n",
    "# #     print(fname)\n",
    "#     if not ',' in fname:\n",
    "#         print(fname)\n",
    "#         continue\n",
    "#     surname,name = fname.split(',')[0],fname.split(',')[1]\n",
    "# #     print(surname)\n",
    "# #     print(name)\n",
    "#     f_surnames.append(surname)\n",
    "#     if 'Mrs.' in name or 'MRS.' in name:\n",
    "#         n = name[5:]\n",
    "#     if 'Mss.' in name or 'MSS.' in name:\n",
    "#         n = name[6:]\n",
    "#     if 'Ms.' in name or 'MS.' in name:\n",
    "#         n = name[4:]\n",
    "#     n = n.strip()\n",
    "#     ff_names.append(n)\n",
    "#     for i in range(len(n)):\n",
    "#         if n[i]==' ':\n",
    "#             nn = n[:i+1]\n",
    "# #             print(i, nn)\n",
    "#             f_names.append(nn.strip())\n",
    "#             break\n",
    "#         if i==len(n)-1:\n",
    "#             f_names.append(n)"
   ]
  },
  {
   "cell_type": "code",
   "execution_count": 46,
   "metadata": {},
   "outputs": [],
   "source": [
    "# count = 0\n",
    "# for name in f_names:\n",
    "#     if 'ANNA' in name.upper():\n",
    "#         count+=1\n",
    "# print(count)"
   ]
  },
  {
   "cell_type": "code",
   "execution_count": 47,
   "metadata": {},
   "outputs": [],
   "source": [
    "# len(set(f_names)), len(f_names), f_names"
   ]
  },
  {
   "cell_type": "code",
   "execution_count": 48,
   "metadata": {},
   "outputs": [],
   "source": [
    "# name = 'Mrs. ABCD'"
   ]
  },
  {
   "cell_type": "code",
   "execution_count": 49,
   "metadata": {},
   "outputs": [],
   "source": [
    "# print(name[4:])"
   ]
  },
  {
   "cell_type": "code",
   "execution_count": 50,
   "metadata": {},
   "outputs": [],
   "source": [
    "# len(ff_names), len(f_names), len(female_names)"
   ]
  },
  {
   "cell_type": "code",
   "execution_count": 51,
   "metadata": {},
   "outputs": [],
   "source": [
    "# # x = np.array([1,1,1,2,2,2,5,25,1,1])\n",
    "# y = np.bincount(f_names)\n",
    "# ii = np.nonzero(y)[0]"
   ]
  },
  {
   "cell_type": "code",
   "execution_count": 52,
   "metadata": {},
   "outputs": [],
   "source": [
    "# unique_elements, counts_elements = np.unique(f_names, return_counts=True)"
   ]
  },
  {
   "cell_type": "code",
   "execution_count": 53,
   "metadata": {},
   "outputs": [],
   "source": [
    "# print(set(counts_elements))"
   ]
  },
  {
   "cell_type": "code",
   "execution_count": 54,
   "metadata": {},
   "outputs": [],
   "source": [
    "# for count, name in enumerate(zip(counts_elements, unique_elements)):\n",
    "#     print(count, name)"
   ]
  },
  {
   "cell_type": "code",
   "execution_count": null,
   "metadata": {},
   "outputs": [],
   "source": []
  }
 ],
 "metadata": {
  "kernelspec": {
   "display_name": "Python 3",
   "language": "python",
   "name": "python3"
  },
  "language_info": {
   "codemirror_mode": {
    "name": "ipython",
    "version": 3
   },
   "file_extension": ".py",
   "mimetype": "text/x-python",
   "name": "python",
   "nbconvert_exporter": "python",
   "pygments_lexer": "ipython3",
   "version": "3.7.3"
  }
 },
 "nbformat": 4,
 "nbformat_minor": 2
}
